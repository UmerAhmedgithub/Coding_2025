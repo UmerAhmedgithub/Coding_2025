{
 "cells": [
  {
   "cell_type": "markdown",
   "id": "468e7a32",
   "metadata": {},
   "source": [
    "# Step 1: Create a project folder (e.g., Coding_2025)\n",
    "mkdir Coding_2025\n",
    "cd Coding_2025\n"
   ]
  },
  {
   "cell_type": "markdown",
   "id": "483a9668",
   "metadata": {},
   "source": [
    "# Step 2: Create a Python virtual environment inside this folder using Conda\n",
    "conda create -p venv python=3.12 -y\n"
   ]
  },
  {
   "cell_type": "markdown",
   "id": "291c0b4f",
   "metadata": {},
   "source": [
    "# Step 3: Activate the virtual environment\n",
    "conda activate ./venv\n"
   ]
  },
  {
   "cell_type": "markdown",
   "id": "61d858af",
   "metadata": {},
   "source": [
    "# Step 4: Create your working folder and files (example)\n",
    "mkdir Python_Basics\n"
   ]
  },
  {
   "cell_type": "markdown",
   "id": "37e21f89",
   "metadata": {},
   "source": [
    "# Step 5: Add your Jupyter Notebook files in Python_Basics folder\n",
    "# (You can do this manually or create dummy ones like below)\n",
    "echo \"# Python Notebook\" > Python_Basics/1.0-basic.ipynb\n",
    "echo \"# Variables in Python\" > Python_Basics/1.1-Variables.ipynb\n"
   ]
  },
  {
   "cell_type": "markdown",
   "id": "ed930090",
   "metadata": {},
   "source": [
    "# Step 6: Initialize Git repository in the project folder\n",
    "git init\n",
    "# Step 7: Create a .gitignore file to ignore the virtual environment folder\n",
    "echo venv/ > .gitignore\n"
   ]
  },
  {
   "cell_type": "markdown",
   "id": "211d7c84",
   "metadata": {},
   "source": [
    "# Step 8: Set up GitHub user credentials (only once)\n",
    "git config --global user.name \"Umer Ahmed\"\n",
    "git config --global user.email \"umeruaf287@gmail.com\"\n"
   ]
  },
  {
   "cell_type": "markdown",
   "id": "af569b55",
   "metadata": {},
   "source": [
    "# Step 9: Stage all files (excluding those in .gitignore)\n",
    "git add .\n",
    "# Step 10: Commit with a message\n",
    "git commit -m \"Initial commit: Add notebooks and ignore venv\"\n"
   ]
  },
  {
   "cell_type": "markdown",
   "id": "0768e22b",
   "metadata": {},
   "source": [
    "# Step 11: Link to your GitHub repository\n",
    "# (Replace with your actual GitHub repo URL)\n",
    "git remote add origin https://github.com/UmerAhmedgithub/Coding_2025.git\n",
    "# Step 12: Push your project and set upstream branch\n",
    "git push -u origin master\n"
   ]
  },
  {
   "cell_type": "markdown",
   "id": "8c86d935",
   "metadata": {},
   "source": [
    "# Future Changes (e.g., You Add a New Notebook)\n",
    "# Step A: Check current Git status\n",
    "git status\n",
    "# Step B: Add all changes (new or updated files)\n",
    "git add .\n",
    "# Step C: Commit with message\n",
    "git commit -m \"Add 1.2-Datatypes.ipynb\"\n",
    "# Step D: Push to GitHub\n",
    "git push\n"
   ]
  },
  {
   "cell_type": "markdown",
   "id": "ec612f06",
   "metadata": {},
   "source": [
    "# Optional: Avoid line ending warnings on Windows\n",
    "git config --global core.autocrlf true\n"
   ]
  },
  {
   "cell_type": "markdown",
   "id": "5c7aa45c",
   "metadata": {},
   "source": [
    " # Summary Table\n",
    "| Command                            | Purpose                        |\n",
    "| ---------------------------------- | ------------------------------ |\n",
    "| `git init`                         | Initialize Git in the folder   |\n",
    "| `echo venv/ > .gitignore`          | Ignore virtual environment     |\n",
    "| `git add .`                        | Stage all changes              |\n",
    "| `git commit -m \"...\"`              | Save a snapshot                |\n",
    "| `git push`                         | Upload to GitHub               |\n",
    "| `conda create -p venv python=3.12` | Create venv inside folder      |\n",
    "| `conda activate ./venv`            | Activate the venv              |\n",
    "| `git status`                       | Check untracked/modified files |\n"
   ]
  },
  {
   "cell_type": "markdown",
   "id": "88fcc9b2",
   "metadata": {},
   "source": [
    "# git commit -m \"Add Test.ipynb\"\n",
    "# git push\n"
   ]
  }
 ],
 "metadata": {
  "language_info": {
   "name": "python"
  }
 },
 "nbformat": 4,
 "nbformat_minor": 5
}
